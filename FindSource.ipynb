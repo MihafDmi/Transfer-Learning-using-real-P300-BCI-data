{
 "cells": [
  {
   "cell_type": "code",
   "execution_count": null,
   "metadata": {},
   "outputs": [],
   "source": [
    "#package importation\n",
    "import numpy as np\n",
    "import matplotlib.pyplot as plt #to make the plot\n",
    "import seaborn as sns\n",
    "import pandas as pd\n",
    "\n",
    "from pyriemann.estimation import ERPCovariances #covariance estimation\n",
    "from pyriemann.tangentspace import TangentSpace\n",
    "\n",
    "from sklearn.svm import SVC #SVM classification\n",
    "from sklearn.pipeline import make_pipeline #pipeline treatment\n",
    "from sklearn.metrics import balanced_accuracy_score\n",
    "\n",
    "from moabb.datasets import bi2013a, bi2014a, bi2014b, bi2015a, BNCI2014008\n",
    "from moabb.paradigms import P300 #paradigm\n",
    "from moabb.evaluations import WithinSessionEvaluation"
   ]
  },
  {
   "cell_type": "code",
   "execution_count": null,
   "metadata": {},
   "outputs": [],
   "source": [
    "#Lists creation\n",
    "datasets = [bi2013a(), bi2014a(), bi2014b(), bi2015a(), BNCI2014008()] # list of datasets\n",
    "subjects = [dataset.subject_list for dataset in datasets] #subject list for each datasets\n",
    "class MyP300(P300):\n",
    "    def scoring(self, estimator, X, y):\n",
    "        y_pred = estimator.predict(X)\n",
    "        return balanced_accuracy_score(y, y_pred)\n",
    "paradigm = MyP300()\n",
    "\n",
    "#Riemannian classification\n",
    "labels_dict = {\"Target\": 1, \"NonTarget\": 0}\n",
    "pipelines = {}\n",
    "pipelines[\"tgsp+svm\"] = make_pipeline(\n",
    "    ERPCovariances(classes=[labels_dict[\"Target\"]], estimator=\"lwf\"),\n",
    "    TangentSpace(metric=\"riemann\"), SVC(kernel=\"linear\", class_weight='balanced')\n",
    ")\n",
    "\n",
    "evaluation = WithinSessionEvaluation(\n",
    "    paradigm=paradigm, datasets=datasets, overwrite=True\n",
    ")\n",
    "results = evaluation.process(pipelines)"
   ]
  },
  {
   "cell_type": "code",
   "execution_count": null,
   "metadata": {},
   "outputs": [],
   "source": [
    "sns.set_style(\"whitegrid\")\n",
    "sns.set_palette(\"muted\")\n",
    "datasets = results['dataset'].unique()\n",
    "colors = sns.color_palette(\"muted\", n_colors=len(datasets))\n",
    "\n",
    "for dataset in datasets:\n",
    "    fig, ax = plt.subplots(figsize=(10,6))\n",
    "    mean_scores_by_subject = results[results['dataset'] == dataset].groupby('subject')['score'].mean()\n",
    "    mean_scores_by_subject_sorted = mean_scores_by_subject.sort_values()\n",
    "    ax.plot(mean_scores_by_subject_sorted.index, mean_scores_by_subject_sorted.values, color=colors[i], label=dataset)\n",
    "    ax.set_xlabel('Subject')\n",
    "    ax.set_ylabel('Mean Score')\n",
    "    ax.set_title(f'{dataset} - Mean Scores by Subject')\n",
    "    ax.legend()\n",
    "    plt.subplots_adjust(right=1.5)\n",
    "    plt.show()\n",
    "    "
   ]
  }
 ],
 "metadata": {
  "kernelspec": {
   "display_name": "Python 3",
   "language": "python",
   "name": "python3"
  },
  "language_info": {
   "codemirror_mode": {
    "name": "ipython",
    "version": 3
   },
   "file_extension": ".py",
   "mimetype": "text/x-python",
   "name": "python",
   "nbconvert_exporter": "python",
   "pygments_lexer": "ipython3",
   "version": "3.11.3"
  },
  "orig_nbformat": 4
 },
 "nbformat": 4,
 "nbformat_minor": 2
}
